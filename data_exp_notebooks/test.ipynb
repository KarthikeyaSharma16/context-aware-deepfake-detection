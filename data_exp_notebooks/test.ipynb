{
 "cells": [
  {
   "cell_type": "code",
   "execution_count": null,
   "metadata": {},
   "outputs": [],
   "source": [
    "video_train = 'video_train.csv'\n",
    "video_val = 'video_val.csv'\n",
    "video_test = 'video_test.csv'\n",
    "\n",
    "text_train = 'text_train.csv'\n",
    "text_val = 'text_val.csv'\n",
    "text_test = 'test_text.csv'\n"
   ]
  }
 ],
 "metadata": {
  "language_info": {
   "name": "python"
  }
 },
 "nbformat": 4,
 "nbformat_minor": 2
}
